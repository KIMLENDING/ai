{
 "cells": [
  {
   "cell_type": "code",
   "execution_count": 17,
   "id": "fb717a87",
   "metadata": {},
   "outputs": [
    {
     "name": "stdout",
     "output_type": "stream",
     "text": [
      "1+2+...+100000000= 5000000050000000\n",
      "소요 시간은  10.86887788772583 초입니다.\n"
     ]
    }
   ],
   "source": [
    "import time\n",
    "import random\n",
    "\n",
    "start=time.time()\n",
    "sum=0\n",
    "for i in range(1,100000001):\n",
    "    sum=sum+i\n",
    "    \n",
    "end=time.time()\n",
    "\n",
    "print('1+2+...+100000000=',sum)\n",
    "print('소요 시간은 ',end-start, '초입니다.')"
   ]
  },
  {
   "cell_type": "code",
   "execution_count": 17,
   "id": "07e0b580",
   "metadata": {},
   "outputs": [
    {
     "name": "stdout",
     "output_type": "stream",
     "text": [
      "경기가 열린 곳은?런던\n",
      "경기가 열린 시간은?23시\n",
      "상대 팀은? 매유\n",
      "손흥민은 몇 골을 넣었나요? 2\n",
      "도움은 몇 개인가요? 1\n",
      "손흥민 팀이 넣은 골 수는?4\n",
      "상대 팀이 넣은 골 수는?2\n",
      "[프리미어 리그 속보(2022-09-08 21:56:11.556349)]\n",
      "손흥민 선수는 런던에서23시에 열린 경기에 출전하였습니다.상대 팀은 매유입니다. 손흥민 선수의 팀이 4골을 넣어 2골을 넣은 상대 팀을 이겼습니다. 손흥민 선수는 2골에 도움1개로 승리를 크게 이끌었습니다. \n"
     ]
    }
   ],
   "source": [
    "from datetime import datetime\n",
    "\n",
    "#경기 결과 입력 받는 곳\n",
    "place=input(\"경기가 열린 곳은?\")\n",
    "time=input(\"경기가 열린 시간은?\")\n",
    "opponent=input(\"상대 팀은? \")\n",
    "goals=input(\"손흥민은 몇 골을 넣었나요? \")\n",
    "aids=input(\"도움은 몇 개인가요? \")\n",
    "score_me=input(\"손흥민 팀이 넣은 골 수는?\")\n",
    "score_you=input(\"상대 팀이 넣은 골 수는?\")\n",
    "\n",
    "#기사 작성하는 곳\n",
    "news=\"[프리미어 리그 속보(\"+str(datetime.now())+\")]\\n\"\n",
    "news=news+\"손흥민 선수는 \"+place+\"에서\"+time+\"에 열린 경기에 출전하였습니다.\"\n",
    "news=news+\"상대 팀은 \"+opponent+\"입니다. \"\n",
    "\n",
    "if score_me>score_you:\n",
    "    news=news+\"손흥민 선수의 팀이 \"+score_me+\"골을 넣어 \"+score_you+\"골을 넣은 상대 팀을 이겼습니다. \" \n",
    "elif score_me<score_you:\n",
    "    news=news+\"손흥민 선수의 팀이 \"+score_me+\"골을 넣어 \"+score_you+\"골을 넣은 상대 팀을 졌습니다.\" \n",
    "else:\n",
    "    news=news+\"두 팀은 \"+score_me+\"대\"+score_you+\"로 비겼습니다. \"\n",
    "\n",
    "if int(goals)>0 and int(aids)>0:\n",
    "    news=news+\"손흥민 선수는 \"+goals+\"골에 도움\"+aids+\"개로 승리를 크게 이끌었습니다. \"\n",
    "elif int(goals)>0 and int(aids)==0:\n",
    "    news=news+\"손흥민 선수는 \"+goals+\"골로 승리를 이끌었습니다. \"\n",
    "elif int(goals)==0 and int(aids)>0:\n",
    "    news=news+\"손흥민 선수는 골은 없지만 도움 \"+aids+\"개로 승리하는 데 공헌하였습니다. \"\n",
    "else:\n",
    "    news=news+\"아쉽게도 이번 경기에서 손흥민의 발끝은 침묵을 지켰습니다.\"\n",
    "\n",
    "print(news)\n",
    "# 음성으로 들려주는 곳\n",
    "from gtts import gTTS\n",
    "import playsound\n",
    "\n",
    "tts=gTTS(text=news,lang='ko')\n",
    "tts.save(\"news_Son.mp3\")\n",
    "playsound.playsound(\"news_Son.mp3\",True)\n"
   ]
  },
  {
   "cell_type": "code",
   "execution_count": null,
   "id": "f4dd947f",
   "metadata": {
    "scrolled": true
   },
   "outputs": [
    {
     "name": "stdout",
     "output_type": "stream",
     "text": [
      "경기가 열린 곳은?런던\n",
      "경기가 열린 시간은?3시\n"
     ]
    }
   ],
   "source": [
    "from datetime import datetime\n",
    "import random\n",
    " \n",
    "#경기 결과 입력 받는 곳\n",
    "place=input(\"경기가 열린 곳은?\")\n",
    "time=input(\"경기가 열린 시간은?\")\n",
    "opponent=input(\"상대 팀은? \")\n",
    "goals=input(\"손흥민은 몇 골을 넣었나요? \")\n",
    "aids=input(\"도움은 몇 개인가요? \")\n",
    "score_me=input(\"손흥민 팀이 넣은 골 수는?\")\n",
    "score_you=input(\"상대 팀이 넣은 골 수는?\")\n",
    "\n",
    "#기사 작성하는 곳\n",
    "news=\"[프리미어 리그 속보(\"+str(datetime.now().strftime(\"%Y-%m-%d %H:%M\"))+\")]\\n\"\n",
    "news=news+\"손흥민 선수는 \"+place+\"에서\"+time+\"에 열린 경기에 출전하였습니다.\"\n",
    "news=news+\"상대 팀은 \"+opponent+\"입니다. \"\n",
    "\n",
    "if score_me>score_you:\n",
    "    wording=[\"상대 팀을 이겼습니다.\",\" 상대를 대상으로 통쾌한 승리를 거머쥐었습니다.\",\"상대 팀을 꺾었습니다.\"]\n",
    "    news=news+\"손흥민 선수의 팀이\"+score_me+\"골을 넣어\"+score_you+\"골을 넣은\"+random.choice(wording)\n",
    "elif score_me<score_you:\n",
    "    news=news+\"손흥민 선수의 팀이 \"+score_me+\"골을 넣어 \"+score_you+\"골을 넣은 상대 팀을 졌습니다.\" \n",
    "else:\n",
    "    news=news+\"두 팀은 \"+score_me+\"대\"+score_you+\"로 비겼습니다. \"\n",
    "\n",
    "if int(goals)>0 and int(aids)>0:\n",
    "    news=news+\"손흥민 선수는 \"+goals+\"골에 도움\"+aids+\"개로 승리를 크게 이끌었습니다. \"\n",
    "elif int(goals)>0 and int(aids)==0:\n",
    "    news=news+\"손흥민 선수는 \"+goals+\"골로 승리를 이끌었습니다. \"\n",
    "elif int(goals)==0 and int(aids)>0:\n",
    "    news=news+\"손흥민 선수는 골은 없지만 도움 \"+aids+\"개로 승리하는 데 공헌하였습니다. \"\n",
    "else:\n",
    "    news=news+\"아쉽게도 이번 경기에서 손흥민의 발끝은 침묵을 지켰습니다.\"\n",
    "\n",
    "print(news)\n",
    "\n",
    "# 음성으로 들려주는 곳\n",
    "from gtts import gTTS\n",
    "import playsound\n",
    "\n",
    "#tts=gTTS(text=news,lang='ko')\n",
    "#tts.save(\"news_Son.mp3\")\n",
    "#playsound.playsound(\"news_Son.mp3\",True)\n",
    "#news_ko=news\n",
    "#tts_korean=gTTS(text=news_ko,lang='ko')\n",
    "#tts_english=gTTS(text=news_en,lang='en')\n",
    "#tts.korean.save(\"news_Son_korean.mp3\")\n",
    "#tts.english.save(\"news_Son_english.mp3\")\n",
    "\n",
    "\n",
    "from google_trans_new import google_translator\n",
    "\n",
    "trans = google_translator()\n",
    "trans_news = trans.translate(news, lang_src='ko',lang_tgt='en')\n",
    "\n",
    "#문자열 news를 영어로 번역\n",
    "print(trans_news)\n",
    "tts=gTTS(text=trans_news, lang='en')\n",
    "\n",
    "#영어 문자열 trans_news를 위한 영어 음성 합성\n",
    "tts.save(\"news_Son_en.mp3\")\n",
    "playsound.playsound(\"news_Son_en.mp3\",True)"
   ]
  },
  {
   "cell_type": "code",
   "execution_count": 34,
   "id": "0ea85f92",
   "metadata": {},
   "outputs": [
    {
     "name": "stdout",
     "output_type": "stream",
     "text": [
      "ooox\n",
      "도\n"
     ]
    }
   ],
   "source": [
    "import random\n",
    "yut=['xxxx','xxxo','xxox','xxoo','xoxx','xoxo','xoox','xooo','oxxx','oxxo','oxox','oxoo','ooxx','ooxo','ooox','oooo',]\n",
    "throw=random.choice(yut)\n",
    "print(throw)\n",
    "n=throw.count('o')\n",
    "if n==4:\n",
    "    print(\"모\")\n",
    "elif n==3:\n",
    "    print(\"도\")\n",
    "elif n==2:\n",
    "    print(\"개\")\n",
    "elif n==1:\n",
    "    print(\"걸\")\n",
    "elif n==0:\n",
    "    print(\"윷\")    "
   ]
  },
  {
   "cell_type": "code",
   "execution_count": 11,
   "id": "3644954d",
   "metadata": {},
   "outputs": [
    {
     "name": "stdout",
     "output_type": "stream",
     "text": [
      "1+2+...+100000000= 00\n",
      "소요 시간은  47.14448070526123 초입니다.\n"
     ]
    }
   ],
   "source": [
    "import time\n",
    "import random\n",
    "\n",
    "start=time.time()\n",
    "zo=['0','1']\n",
    "\n",
    "\n",
    "sum=0\n",
    "for i in range(1,100000001):\n",
    "    sum=random.choice(zo)\n",
    "    sum=sum+sum\n",
    "end=time.time()\n",
    "\n",
    "print('1+2+...+100000000=',sum)\n",
    "print('소요 시간은 ',end-start, '초입니다.')"
   ]
  },
  {
   "cell_type": "code",
   "execution_count": 41,
   "id": "801c63df",
   "metadata": {},
   "outputs": [
    {
     "name": "stdout",
     "output_type": "stream",
     "text": [
      "1+2+...+100000000= 49998634\n",
      "소요 시간은  57.67068362236023 초입니다.\n"
     ]
    }
   ],
   "source": [
    "import time\n",
    "import random\n",
    "\n",
    "start=time.time()\n",
    "zo=[0,1]\n",
    "\n",
    "\n",
    "num=0\n",
    "for i in range(1,100000001):\n",
    "    sum=random.choice(zo)\n",
    "    num=num+sum\n",
    "    \n",
    "    \n",
    "end=time.time()\n",
    "\n",
    "print('1+2+...+100000000=',num)\n",
    "print('소요 시간은 ',end-start, '초입니다.')"
   ]
  },
  {
   "cell_type": "code",
   "execution_count": 1,
   "id": "74227d30",
   "metadata": {},
   "outputs": [
    {
     "name": "stdout",
     "output_type": "stream",
     "text": [
      "hello \n"
     ]
    }
   ],
   "source": [
    "from google_trans_new import google_translator  \n",
    "\n",
    "translator = google_translator()  \n",
    "\n",
    "translate_text = translator.translate('안녕하세요',lang_src='ko', lang_tgt='en')  \n",
    "\n",
    "print(translate_text)"
   ]
  },
  {
   "cell_type": "code",
   "execution_count": null,
   "id": "65e0588b",
   "metadata": {},
   "outputs": [],
   "source": []
  }
 ],
 "metadata": {
  "kernelspec": {
   "display_name": "Python 3 (ipykernel)",
   "language": "python",
   "name": "python3"
  },
  "language_info": {
   "codemirror_mode": {
    "name": "ipython",
    "version": 3
   },
   "file_extension": ".py",
   "mimetype": "text/x-python",
   "name": "python",
   "nbconvert_exporter": "python",
   "pygments_lexer": "ipython3",
   "version": "3.9.12"
  }
 },
 "nbformat": 4,
 "nbformat_minor": 5
}
